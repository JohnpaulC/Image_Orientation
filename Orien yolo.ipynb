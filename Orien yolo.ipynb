{
 "cells": [
  {
   "cell_type": "code",
   "execution_count": 2,
   "metadata": {
    "ExecuteTime": {
     "end_time": "2019-10-09T11:42:05.938085Z",
     "start_time": "2019-10-09T11:42:04.819584Z"
    }
   },
   "outputs": [
    {
     "name": "stdout",
     "output_type": "stream",
     "text": [
      "The whole process: 0.0163 = 0.0039 + 0.0120 + 0.0004\n",
      "The whole process: 0.0147 = 0.0039 + 0.0104 + 0.0004\n",
      "Detection time comsuming: 0.0316\n",
      "Detection time comsuming: 0.0349\n",
      "The HoG result is  8 in 0.0630\n",
      "SIFTreal Result: median( 7.590), mean( 7.590) in 0.076\n"
     ]
    }
   ],
   "source": [
    "import time\n",
    "import numpy as np\n",
    "import cv2\n",
    "import torch\n",
    "\n",
    "from utils.datasets import letterbox\n",
    "from utils.models import *\n",
    "from Utils_orientation import object_detection, object_capture\n",
    "from Utils_orientation import angle_HoG, HoG_cal, angle_cal\n",
    "\n",
    "# Image path\n",
    "base_file = \"figures/71.jpg\"\n",
    "rotate_file = \"figures/99.jpg\"\n",
    "\n",
    "# Configuration file path\n",
    "cfg = 'cfg/yolov3-spp.cfg'\n",
    "data_cfg = 'cfg/coco.data'\n",
    "weights = 'cfg/best.pt'\n",
    "data ='cfg/coco.data'\n",
    "\n",
    "# Model parameter\n",
    "img_size=640\n",
    "device = torch.device('cuda:1' if torch.cuda.is_available() else 'cpu')\n",
    "#device = torch.device('cpu')\n",
    "\n",
    "# Initialize model and load weights\n",
    "model = Darknet(cfg, img_size)\n",
    "model.load_state_dict(torch.load(weights, map_location=device)['model'])\n",
    "model.to(device).eval()\n",
    "\n",
    "start = time.time()\n",
    "# Detection Process Transform tensor into numpy array\n",
    "if device == torch.device(\"cpu\"):\n",
    "    detection_base = object_detection(model, base_file).numpy()\n",
    "    detection_rotate = object_detection(model, rotate_file).numpy()\n",
    "else:\n",
    "    detection_base = object_detection(model, base_file).cpu().numpy()\n",
    "    detection_rotate = object_detection(model, rotate_file).cpu().numpy()\n",
    "print(\"Detection time comsuming: {0:.4f}\".format(time.time() - start))\n",
    "\n",
    "# Image Orientation Calculation\n",
    "show_results = False\n",
    "show_images = False\n",
    "mode = \"SIFT\"\n",
    "# The index of object using to calculation the capture image\n",
    "detection_index = 0\n",
    "\n",
    "img_base, img_rotate = object_capture(base_file, rotate_file,\n",
    "                   bool_cap = True, detection_index = detection_index,\n",
    "                   detection_base = detection_base, detection_rotate = detection_rotate)\n",
    "print(\"Detection time comsuming: {0:.4f}\".format(time.time() - start))\n",
    "hist_base = HoG_cal(img_base)\n",
    "hist_rotate = HoG_cal(img_rotate)\n",
    "Hog_angle = angle_HoG(hist_base, hist_rotate)\n",
    "print(\"The HoG result is {0:2d} in {1:.4f}\".format(Hog_angle, time.time() - start))\n",
    "\n",
    "median, mean, time = angle_cal(img_base, img_rotate, mode, show_results= show_results, show_images= show_images)\n",
    "print(mode + \"real Result: median({0:6.3f}), mean({1:6.3f}) in {2:.3f}\".format(median, mean, time))"
   ]
  },
  {
   "cell_type": "code",
   "execution_count": 3,
   "metadata": {
    "ExecuteTime": {
     "end_time": "2019-10-10T01:16:06.107265Z",
     "start_time": "2019-10-10T01:16:06.103492Z"
    }
   },
   "outputs": [
    {
     "data": {
      "text/plain": [
       "'GeForce RTX 2080 Ti'"
      ]
     },
     "execution_count": 3,
     "metadata": {},
     "output_type": "execute_result"
    }
   ],
   "source": [
    "torch.cuda.get_device_name()"
   ]
  }
 ],
 "metadata": {
  "kernelspec": {
   "display_name": "Python 3",
   "language": "python",
   "name": "python3"
  },
  "language_info": {
   "codemirror_mode": {
    "name": "ipython",
    "version": 3
   },
   "file_extension": ".py",
   "mimetype": "text/x-python",
   "name": "python",
   "nbconvert_exporter": "python",
   "pygments_lexer": "ipython3",
   "version": "3.7.0"
  },
  "latex_envs": {
   "LaTeX_envs_menu_present": true,
   "autoclose": false,
   "autocomplete": true,
   "bibliofile": "biblio.bib",
   "cite_by": "apalike",
   "current_citInitial": 1,
   "eqLabelWithNumbers": true,
   "eqNumInitial": 1,
   "hotkeys": {
    "equation": "Ctrl-E",
    "itemize": "Ctrl-I"
   },
   "labels_anchors": false,
   "latex_user_defs": false,
   "report_style_numbering": false,
   "user_envs_cfg": false
  },
  "toc": {
   "base_numbering": 1,
   "nav_menu": {},
   "number_sections": true,
   "sideBar": true,
   "skip_h1_title": false,
   "title_cell": "Table of Contents",
   "title_sidebar": "Contents",
   "toc_cell": false,
   "toc_position": {},
   "toc_section_display": true,
   "toc_window_display": false
  }
 },
 "nbformat": 4,
 "nbformat_minor": 2
}
