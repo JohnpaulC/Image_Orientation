{
 "cells": [
  {
   "cell_type": "code",
   "execution_count": 21,
   "metadata": {},
   "outputs": [
    {
     "name": "stdout",
     "output_type": "stream",
     "text": [
      "(360, 640, 3)\n",
      "2\n"
     ]
    }
   ],
   "source": [
    "import cv2\n",
    "import matplotlib.pyplot as plt\n",
    "\n",
    "img_orig = cv2.imread(\"figures/71.jpg\")\n",
    "print(img_orig.shape)\n",
    "\n",
    "img_grey = cv2.cvtColor(img_orig, cv2.COLOR_BGR2GRAY)\n",
    "print(len(img_grey.shape))\n",
    "\n",
    "cv2.imshow('time', img_grey)\n",
    "cv2.waitKey()\n",
    "cv2.destroyAllWindows()"
   ]
  },
  {
   "cell_type": "code",
   "execution_count": 19,
   "metadata": {},
   "outputs": [
    {
     "name": "stdout",
     "output_type": "stream",
     "text": [
      "The image size is 360 * 640\n",
      "(360, 640)\n"
     ]
    }
   ],
   "source": [
    "(h, w) = img_orig.shape[:2]\n",
    "print(\"The image size is {0:d} * {1:d}\".format(h, w))\n",
    "img_gray = cv2.cvtColor(img_orig, cv2.COLOR_BGR2GRAY)\n",
    "angle = 14\n",
    "center = (w / 2, h / 2)\n",
    "M = cv2.getRotationMatrix2D(center, angle, 1)\n",
    "img_rotate = cv2.warpAffine(img_gray, M, (w, h))\n",
    "print(img_rotate.shape)\n",
    "\n",
    "cv2.imshow('time', img_rotate)\n",
    "cv2.waitKey()\n",
    "cv2.destroyAllWindows()"
   ]
  }
 ],
 "metadata": {
  "kernelspec": {
   "display_name": "Python 3",
   "language": "python",
   "name": "python3"
  },
  "language_info": {
   "codemirror_mode": {
    "name": "ipython",
    "version": 3
   },
   "file_extension": ".py",
   "mimetype": "text/x-python",
   "name": "python",
   "nbconvert_exporter": "python",
   "pygments_lexer": "ipython3",
   "version": "3.7.0"
  }
 },
 "nbformat": 4,
 "nbformat_minor": 2
}
